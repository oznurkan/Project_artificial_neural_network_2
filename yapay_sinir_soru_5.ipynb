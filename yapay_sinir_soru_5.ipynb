{
  "nbformat": 4,
  "nbformat_minor": 0,
  "metadata": {
    "colab": {
      "provenance": []
    },
    "kernelspec": {
      "name": "python3",
      "display_name": "Python 3"
    },
    "language_info": {
      "name": "python"
    },
    "accelerator": "GPU",
    "gpuClass": "standard"
  },
  "cells": [
    {
      "cell_type": "code",
      "execution_count": 22,
      "metadata": {
        "colab": {
          "base_uri": "https://localhost:8080/"
        },
        "id": "rxe4FcDXVthz",
        "outputId": "2d8b59a5-6ac6-474a-cc82-81281cb92f8b"
      },
      "outputs": [
        {
          "output_type": "stream",
          "name": "stdout",
          "text": [
            "Drive already mounted at /content/drive; to attempt to forcibly remount, call drive.mount(\"/content/drive\", force_remount=True).\n"
          ]
        }
      ],
      "source": [
        "from google.colab import drive\n",
        "\n",
        "# Mount Google Drive\n",
        "drive.mount('/content/drive')"
      ]
    },
    {
      "cell_type": "code",
      "source": [
        "import torch\n",
        "import torch.nn as nn\n",
        "import datetime"
      ],
      "metadata": {
        "id": "kMhvJU0vV5fj"
      },
      "execution_count": 23,
      "outputs": []
    },
    {
      "cell_type": "code",
      "source": [
        "ilk_zaman = datetime.datetime.now()"
      ],
      "metadata": {
        "id": "-RTS7FDcV5pu"
      },
      "execution_count": 24,
      "outputs": []
    },
    {
      "cell_type": "code",
      "source": [
        "class MLP(nn.Module):\n",
        "    def __init__(self, input_dim, output_neuron):\n",
        "        super(MLP, self).__init__()\n",
        "        self.hidden_layer_1 = nn.Linear(input_dim, 100)\n",
        "        self.hidden_layer_2 = nn.Linear(100, 50)\n",
        "        self.output_layer = nn.Linear(50, output_neuron)\n",
        "        self.relu = nn.ReLU()\n",
        "        self.sigmoid = nn.Sigmoid()\n",
        "\n",
        "    def forward(self, x):\n",
        "        x = x.view(x.size(0), -1)\n",
        "        hidden_1 = self.relu(self.hidden_layer_1(x))\n",
        "        hidden_2 = self.relu(self.hidden_layer_2(hidden_1))\n",
        "        output = self.sigmoid(self.output_layer(hidden_2))\n",
        "        return output"
      ],
      "metadata": {
        "id": "EvQ1ZoYiV5ue"
      },
      "execution_count": 25,
      "outputs": []
    },
    {
      "cell_type": "code",
      "source": [
        "import torch\n",
        "import torch.nn as nn\n",
        "import torch.optim as optim\n",
        "from torch.utils.data import Dataset, DataLoader\n",
        "from torchvision import transforms\n",
        "import numpy as np\n",
        "import pandas as pd\n",
        "from google.colab import drive\n",
        "import os\n",
        "import matplotlib.pyplot as plt\n",
        "from sklearn.metrics import accuracy_score, precision_score, f1_score, recall_score"
      ],
      "metadata": {
        "id": "aUKD-B8SXPiJ"
      },
      "execution_count": 26,
      "outputs": []
    },
    {
      "cell_type": "code",
      "source": [
        "folder_path = '/content/drive/MyDrive/dataset'\n",
        "os.chdir(folder_path)\n",
        "\n",
        "class MyDataset(Dataset):\n",
        "    def __init__(self, csv_file, transform=None):\n",
        "        self.data = pd.read_csv(csv_file)\n",
        "        self.features = self.data.iloc[:, :-1].values.astype(float)\n",
        "        self.labels = self.data.iloc[:, -1].values.astype(int)\n",
        "        self.transform = transform\n",
        "\n",
        "    def __len__(self):\n",
        "        return len(self.labels)\n",
        "\n",
        "    def __getitem__(self, idx):\n",
        "        feature = self.features[idx]\n",
        "        label = self.labels[idx]\n",
        "        if self.transform:\n",
        "            feature = self.transform(feature)\n",
        "        return torch.tensor(feature), torch.tensor(label)"
      ],
      "metadata": {
        "id": "6S4guGVgXPp_"
      },
      "execution_count": 27,
      "outputs": []
    },
    {
      "cell_type": "code",
      "source": [
        "# Set the seed value\n",
        "torch.manual_seed(180401046)\n",
        "device = torch.device('cuda' if torch.cuda.is_available() else 'cpu')\n",
        "\n",
        "# Define the hyperparameters\n",
        "input_dim = 13\n",
        "output_neuron = 2\n",
        "lr = 0.01\n",
        "batch_size = 16\n",
        "num_epochs = 60\n",
        "\n",
        "# Initialize the model and the optimizer\n",
        "model = MLP(input_dim, output_neuron).to(device)\n",
        "\n",
        "checkpoint = torch.load('/content/drive/MyDrive/dataset/checkpoint.pt')\n",
        "model_2 = MLP(input_dim, output_neuron)\n",
        "model_2.load_state_dict(checkpoint)\n",
        "model_2.to(device)\n",
        "\n",
        "optimizer = optim.SGD(model.parameters(), lr=lr)\n",
        "\n",
        "# Define the loss function\n",
        "criterion = nn.CrossEntropyLoss()"
      ],
      "metadata": {
        "id": "yE_GCMUsXPuH"
      },
      "execution_count": 28,
      "outputs": []
    },
    {
      "cell_type": "code",
      "source": [
        "train_dataset = MyDataset('cure_the_princess_train.csv' )\n",
        "validation_dataset = MyDataset('cure_the_princess_validation.csv')\n",
        "\n",
        "# Create the training and validation data loaders\n",
        "train_loader = DataLoader(train_dataset, batch_size=batch_size, shuffle=True)\n",
        "validation_loader = DataLoader(validation_dataset, batch_size=batch_size, shuffle=False)"
      ],
      "metadata": {
        "id": "sorFShQ8Xhfx"
      },
      "execution_count": 29,
      "outputs": []
    },
    {
      "cell_type": "code",
      "source": [
        "\n",
        "# Define the lists to store the losses\n",
        "train_losses = []\n",
        "validation_losses = []\n",
        "train_loss = 0.0\n",
        "validation_loss = 0.0\n",
        "\n",
        "# Eğitim döngüsü\n",
        "\n",
        "train_accs = []\n",
        "val_accs = []\n",
        "\n",
        "patience = 4\n",
        "best_validation_loss=None"
      ],
      "metadata": {
        "id": "rKGwl8M5Xhnl"
      },
      "execution_count": 30,
      "outputs": []
    },
    {
      "cell_type": "code",
      "source": [
        "def train(model, optimizer, criterion, train_loader, validation_loader, num_epochs, train_loss, validation_loss, best_validation_loss, patience):\n",
        "   \n",
        "    best_loss = float('inf')\n",
        "    for epoch in range(num_epochs):\n",
        "        running_loss = 0.0\n",
        "        running_corrects = 0\n",
        "        total_train = 0\n",
        "\n",
        "        model.train()\n",
        "        for i, (inputs, labels) in enumerate(train_loader):\n",
        "          inputs = inputs.to(device).float()\n",
        "          labels = labels.to(device)\n",
        "        \n",
        "          optimizer.zero_grad()\n",
        "          outputs = model(inputs)\n",
        "          loss = criterion(outputs, labels)\n",
        "          loss.backward()\n",
        "          optimizer.step()\n",
        "\n",
        "        \n",
        "          train_loss += loss.item()\n",
        "\n",
        "          _,preds = torch.max(outputs, 1)\n",
        "          running_corrects += torch.sum(preds == labels.data)\n",
        "          total_train += labels.size(0)\n",
        "\n",
        "        train_loss = train_loss / len(train_loader)\n",
        "        train_acc =100. * running_corrects / total_train\n",
        "        train_losses.append(train_loss)\n",
        "        train_accs.append(train_acc)\n",
        "\n",
        "        #validation loss ve accuracy hesapla\n",
        "        validation_loss, val_acc = evaluate(model, criterion, validation_loader, validation_loss, train_loss)\n",
        "        validation_losses.append(validation_loss)\n",
        "        val_accs.append(val_acc)\n",
        "        \n",
        "        validation_score = validation_loss\n",
        "        if best_validation_loss is None:\n",
        "          patience_counter = 0\n",
        "          best_validation_loss = validation_score\n",
        "          torch.save(model.state_dict(), \"checkpoint.pt\")\n",
        "        elif best_validation_loss < validation_score:\n",
        "          patience_counter += 1\n",
        "          print(\"Earlystopping Patience Counter\", patience_counter)\n",
        "          if patience_counter == patience:\n",
        "              break\n",
        "        else:\n",
        "          best_validation_loss = validation_score\n",
        "          torch.save(model.state_dict(), \"checkpoint.pt\")\n",
        "          patience_counter = 0\n",
        "\n",
        "        print(f\"Epoch {epoch+1}/{num_epochs} - Train Loss: {train_loss:.4f} - Train Acc: {train_acc:.2f} - Val Loss: {validation_loss:.4f} - Val Acc: {val_acc:.2f}\")"
      ],
      "metadata": {
        "id": "xYc1FArgXqjt"
      },
      "execution_count": 31,
      "outputs": []
    },
    {
      "cell_type": "code",
      "source": [
        "def evaluate(model, criterion, data_loader, validation_loss, train_loss):\n",
        "    running_loss = 0.0\n",
        "    running_corrects = 0\n",
        "    total_val = 0  \n",
        "    model.eval()\n",
        "   \n",
        "    with torch.no_grad():\n",
        "        for inputs, labels in validation_loader:\n",
        "            inputs = inputs.to(device).float()\n",
        "            labels = labels.to(device)\n",
        "\n",
        "            outputs = model(inputs)\n",
        "            loss = criterion(outputs.squeeze(), labels.long())\n",
        "            \n",
        "            _, preds = torch.max(outputs, 1)\n",
        "            validation_loss += loss.item()\n",
        "            total_val += labels.size(0)\n",
        "            running_corrects += torch.sum(preds == labels.data)\n",
        "            \n",
        "#    train_loss = train_loss / len(train_loader)\n",
        "    validation_loss = validation_loss / len(validation_loader)\n",
        "    val_acc = 100. *running_corrects / total_val\n",
        "    return validation_loss, val_acc\n"
      ],
      "metadata": {
        "id": "ayYfklNQXqrE"
      },
      "execution_count": 32,
      "outputs": []
    },
    {
      "cell_type": "code",
      "source": [
        "train(model, optimizer, criterion, train_loader, validation_loader, num_epochs, train_loss, validation_loss, best_validation_loss, patience)\n"
      ],
      "metadata": {
        "colab": {
          "base_uri": "https://localhost:8080/"
        },
        "id": "SiFoYrBGaphz",
        "outputId": "068a808e-0c66-4ac1-ea08-072656bb91dd"
      },
      "execution_count": 33,
      "outputs": [
        {
          "output_type": "stream",
          "name": "stdout",
          "text": [
            "Epoch 1/60 - Train Loss: 0.6514 - Train Acc: 64.30 - Val Loss: 0.5759 - Val Acc: 82.17\n",
            "Epoch 2/60 - Train Loss: 0.5760 - Train Acc: 79.07 - Val Loss: 0.5318 - Val Acc: 87.90\n",
            "Epoch 3/60 - Train Loss: 0.5270 - Train Acc: 82.27 - Val Loss: 0.5204 - Val Acc: 83.44\n",
            "Earlystopping Patience Counter 1\n",
            "Epoch 4/60 - Train Loss: 0.4961 - Train Acc: 84.50 - Val Loss: 0.5211 - Val Acc: 81.85\n",
            "Earlystopping Patience Counter 2\n",
            "Epoch 5/60 - Train Loss: 0.4820 - Train Acc: 86.02 - Val Loss: 0.5299 - Val Acc: 79.94\n",
            "Epoch 6/60 - Train Loss: 0.4658 - Train Acc: 87.30 - Val Loss: 0.4512 - Val Acc: 90.76\n",
            "Earlystopping Patience Counter 1\n",
            "Epoch 7/60 - Train Loss: 0.4543 - Train Acc: 87.86 - Val Loss: 0.4851 - Val Acc: 85.99\n",
            "Earlystopping Patience Counter 2\n",
            "Epoch 8/60 - Train Loss: 0.4509 - Train Acc: 87.62 - Val Loss: 0.4682 - Val Acc: 87.90\n",
            "Epoch 9/60 - Train Loss: 0.4400 - Train Acc: 89.54 - Val Loss: 0.4279 - Val Acc: 92.04\n",
            "Earlystopping Patience Counter 1\n",
            "Epoch 10/60 - Train Loss: 0.4381 - Train Acc: 88.42 - Val Loss: 0.4572 - Val Acc: 88.54\n",
            "Epoch 11/60 - Train Loss: 0.4346 - Train Acc: 89.86 - Val Loss: 0.4259 - Val Acc: 91.72\n",
            "Earlystopping Patience Counter 1\n",
            "Epoch 12/60 - Train Loss: 0.4336 - Train Acc: 89.46 - Val Loss: 0.4385 - Val Acc: 90.13\n",
            "Epoch 13/60 - Train Loss: 0.4258 - Train Acc: 90.18 - Val Loss: 0.4233 - Val Acc: 92.04\n",
            "Epoch 14/60 - Train Loss: 0.4236 - Train Acc: 90.02 - Val Loss: 0.4191 - Val Acc: 92.36\n",
            "Epoch 15/60 - Train Loss: 0.4205 - Train Acc: 90.02 - Val Loss: 0.4114 - Val Acc: 92.99\n",
            "Epoch 16/60 - Train Loss: 0.4166 - Train Acc: 90.81 - Val Loss: 0.4089 - Val Acc: 93.31\n",
            "Epoch 17/60 - Train Loss: 0.4170 - Train Acc: 90.89 - Val Loss: 0.4062 - Val Acc: 93.31\n",
            "Epoch 18/60 - Train Loss: 0.4127 - Train Acc: 90.81 - Val Loss: 0.4046 - Val Acc: 94.27\n",
            "Earlystopping Patience Counter 1\n",
            "Epoch 19/60 - Train Loss: 0.4123 - Train Acc: 90.34 - Val Loss: 0.4091 - Val Acc: 92.36\n",
            "Earlystopping Patience Counter 2\n",
            "Epoch 20/60 - Train Loss: 0.4107 - Train Acc: 90.97 - Val Loss: 0.4462 - Val Acc: 87.90\n",
            "Earlystopping Patience Counter 3\n",
            "Epoch 21/60 - Train Loss: 0.4048 - Train Acc: 91.53 - Val Loss: 0.4047 - Val Acc: 93.63\n",
            "Epoch 22/60 - Train Loss: 0.4066 - Train Acc: 91.21 - Val Loss: 0.4006 - Val Acc: 94.90\n",
            "Epoch 23/60 - Train Loss: 0.4008 - Train Acc: 92.57 - Val Loss: 0.3998 - Val Acc: 94.90\n",
            "Earlystopping Patience Counter 1\n",
            "Epoch 24/60 - Train Loss: 0.4001 - Train Acc: 92.01 - Val Loss: 0.4133 - Val Acc: 92.36\n",
            "Earlystopping Patience Counter 2\n",
            "Epoch 25/60 - Train Loss: 0.4000 - Train Acc: 91.93 - Val Loss: 0.4091 - Val Acc: 92.68\n",
            "Epoch 26/60 - Train Loss: 0.3988 - Train Acc: 92.17 - Val Loss: 0.3957 - Val Acc: 94.59\n",
            "Earlystopping Patience Counter 1\n",
            "Epoch 27/60 - Train Loss: 0.3954 - Train Acc: 92.65 - Val Loss: 0.4049 - Val Acc: 93.31\n",
            "Earlystopping Patience Counter 2\n",
            "Epoch 28/60 - Train Loss: 0.3990 - Train Acc: 92.41 - Val Loss: 0.3966 - Val Acc: 93.63\n",
            "Earlystopping Patience Counter 3\n",
            "Epoch 29/60 - Train Loss: 0.3953 - Train Acc: 93.05 - Val Loss: 0.3972 - Val Acc: 94.90\n",
            "Epoch 30/60 - Train Loss: 0.3923 - Train Acc: 92.97 - Val Loss: 0.3937 - Val Acc: 95.22\n",
            "Epoch 31/60 - Train Loss: 0.3937 - Train Acc: 92.73 - Val Loss: 0.3922 - Val Acc: 94.27\n",
            "Earlystopping Patience Counter 1\n",
            "Epoch 32/60 - Train Loss: 0.3890 - Train Acc: 92.73 - Val Loss: 0.4010 - Val Acc: 92.99\n",
            "Earlystopping Patience Counter 2\n",
            "Epoch 33/60 - Train Loss: 0.3866 - Train Acc: 93.69 - Val Loss: 0.3938 - Val Acc: 94.27\n",
            "Earlystopping Patience Counter 3\n",
            "Epoch 34/60 - Train Loss: 0.3861 - Train Acc: 93.77 - Val Loss: 0.3959 - Val Acc: 93.95\n",
            "Earlystopping Patience Counter 4\n"
          ]
        }
      ]
    },
    {
      "cell_type": "code",
      "source": [
        "plt.plot(train_losses, label='Training Loss')\n",
        "plt.plot(validation_losses, label='Validation Loss')\n",
        "plt.xlabel('Epoch')\n",
        "plt.ylabel('Loss')\n",
        "plt.legend()\n",
        "plt.show()"
      ],
      "metadata": {
        "colab": {
          "base_uri": "https://localhost:8080/",
          "height": 449
        },
        "id": "Y8Or2SRlapoT",
        "outputId": "ffe7bec7-0d6d-4923-8827-1edd97a3ca1a"
      },
      "execution_count": 34,
      "outputs": [
        {
          "output_type": "display_data",
          "data": {
            "text/plain": [
              "<Figure size 640x480 with 1 Axes>"
            ],
            "image/png": "[encoded data removed]"
          },
          "metadata": {}
        }
      ]
    },
    {
      "cell_type": "code",
      "source": [
        "test_dataset = MyDataset('cure_the_princess_test.csv' )\n",
        "test_loader = DataLoader(test_dataset, batch_size=batch_size, shuffle=True)"
      ],
      "metadata": {
        "id": "9Hu9uRQeWOBq"
      },
      "execution_count": 35,
      "outputs": []
    },
    {
      "cell_type": "code",
      "source": [
        "def evaluate_metrics(model, criterion, data_loader):\n",
        "    model.eval()\n",
        "    y_true = []\n",
        "    y_pred = []\n",
        "    with torch.no_grad():\n",
        "        for inputs, labels in data_loader:\n",
        "            inputs = inputs.to(device).float()\n",
        "            labels = labels.to(device)\n",
        "            outputs = model(inputs)\n",
        "            _, preds = torch.max(outputs, 1)\n",
        "            y_true += labels.cpu().numpy().tolist()\n",
        "            y_pred += preds.cpu().numpy().tolist()\n",
        "\n",
        "    accuracy = accuracy_score(y_true, y_pred)\n",
        "    precision = precision_score(y_true, y_pred, average='weighted')\n",
        "    f1 = f1_score(y_true, y_pred, average='weighted')\n",
        "    recall = recall_score(y_true, y_pred, average='weighted')   \n",
        "\n",
        "    print(f\"Test Accuracy: {accuracy:.4f},Prec Accuracy: {precision:.4f},F1 score: {f1:.4f},Recall score: {recall:.4f}\")\n",
        "\n",
        "    metrics = ['Accuracy', 'Precision', 'F1-score', 'Recall']\n",
        "    values = [accuracy, precision, f1, recall]"
      ],
      "metadata": {
        "id": "tg-WfNKXW7eQ"
      },
      "execution_count": 36,
      "outputs": []
    },
    {
      "cell_type": "code",
      "source": [
        "evaluate_metrics(model, criterion, test_loader)"
      ],
      "metadata": {
        "colab": {
          "base_uri": "https://localhost:8080/"
        },
        "id": "d3j9L_0eW7he",
        "outputId": "d60b8a18-ef16-40dd-8c7a-ff85015f5d97"
      },
      "execution_count": 37,
      "outputs": [
        {
          "output_type": "stream",
          "name": "stdout",
          "text": [
            "Test Accuracy: 0.9301,Prec Accuracy: 0.9303,F1 score: 0.9300,Recall score: 0.9301\n"
          ]
        }
      ]
    },
    {
      "cell_type": "code",
      "source": [
        "evaluate_metrics(model_2, criterion, test_loader)"
      ],
      "metadata": {
        "colab": {
          "base_uri": "https://localhost:8080/"
        },
        "id": "kPGExtoNWOHJ",
        "outputId": "c8364e10-13f4-49e9-dde7-c535dd6c1b98"
      },
      "execution_count": 38,
      "outputs": [
        {
          "output_type": "stream",
          "name": "stdout",
          "text": [
            "Test Accuracy: 0.9236,Prec Accuracy: 0.9237,F1 score: 0.9236,Recall score: 0.9236\n"
          ]
        }
      ]
    },
    {
      "cell_type": "code",
      "source": [
        "son_zaman = datetime.datetime.now()\n",
        "print(f\"Geçen süre {son_zaman-ilk_zaman} device {device}\")\n"
      ],
      "metadata": {
        "colab": {
          "base_uri": "https://localhost:8080/"
        },
        "id": "n0E1iRiYW7aV",
        "outputId": "77d1dd37-9e9d-40d6-b870-7eb7f4dd1748"
      },
      "execution_count": 39,
      "outputs": [
        {
          "output_type": "stream",
          "name": "stdout",
          "text": [
            "Geçen süre 0:00:07.214633 device cuda\n"
          ]
        }
      ]
    }
  ]
}